{
 "cells": [
  {
   "cell_type": "code",
   "execution_count": 3,
   "id": "071727e8",
   "metadata": {},
   "outputs": [],
   "source": [
    "import pandas as pd\n",
    "import numpy as np\n",
    "import matplotlib.pyplot as plt\n",
    "import seaborn as sns\n",
    "from sklearn.linear_model import LinearRegression\n",
    "from sklearn.metrics import mean_squared_error\n",
    "from sklearn.model_selection import train_test_split\n",
    "from datetime import datetime\n"
   ]
  },
  {
   "cell_type": "code",
   "execution_count": null,
   "id": "314de1bb",
   "metadata": {},
   "outputs": [],
   "source": [
    "df = pd.read_csv(\"weather_data_copy.csv\")\n",
    "print(df.head())\n",
    "print(df.info())\n"
   ]
  },
  {
   "cell_type": "code",
   "execution_count": null,
   "id": "14295249",
   "metadata": {},
   "outputs": [],
   "source": [
    "df.columns = ['DATE', 'TEMP', 'HUMIDITY', 'RAINFALL']\n",
    "df['DATE'] = pd.to_datetime(df['DATE'], errors='coerce')\n",
    "df = df.dropna(subset=['DATE'])\n",
    "df['YEAR'] = df['DATE'].dt.year\n",
    "df['MONTH'] = df['DATE'].dt.month\n",
    "df['TEMP'].fillna(df['TEMP'].mean(), inplace=True)\n",
    "df['HUMIDITY'].fillna(df['HUMIDITY'].mean(), inplace=True)\n",
    "df['RAINFALL'].fillna(df['RAINFALL'].mean(), inplace=True)\n"
   ]
  },
  {
   "cell_type": "code",
   "execution_count": null,
   "id": "2a622637",
   "metadata": {},
   "outputs": [],
   "source": [
    "print(df.describe())\n",
    "plt.figure(figsize=(8,6))\n",
    "sns.heatmap(df[['TEMP','HUMIDITY','RAINFALL']].corr(), annot=True, cmap='coolwarm')\n",
    "plt.title(\"Correlation Heatmap\")\n",
    "plt.show()\n"
   ]
  },
  {
   "cell_type": "code",
   "execution_count": null,
   "id": "a3461ea1",
   "metadata": {},
   "outputs": [],
   "source": [
    "#Line Chart - Temperature Over Years\n",
    "temp_trend = df.groupby('YEAR')['TEMP'].mean()\n",
    "temp_trend.plot(marker='o', color='blue')\n",
    "plt.title(\"Average Temperature Over Years\")\n",
    "plt.ylabel(\"Temperature\")\n",
    "plt.xlabel(\"Year\")\n",
    "plt.grid(True)\n",
    "plt.show()\n"
   ]
  },
  {
   "cell_type": "code",
   "execution_count": null,
   "id": "01ddb119",
   "metadata": {},
   "outputs": [],
   "source": [
    "#Bar Graph - Total Rainfall by Year\n",
    "rainfall_by_year = df.groupby('YEAR')['RAINFALL'].sum()\n",
    "rainfall_by_year.plot(kind='bar', color='skyblue')\n",
    "plt.title(\"Total Rainfall by Year\")\n",
    "plt.ylabel(\"Rainfall\")\n",
    "plt.xlabel(\"Year\")\n",
    "plt.show()\n"
   ]
  },
  {
   "cell_type": "code",
   "execution_count": null,
   "id": "eaf0e4d3",
   "metadata": {},
   "outputs": [],
   "source": [
    "#Scatter Plot - Temperature vs Humidity\n",
    "plt.figure(figsize=(8,6))\n",
    "sns.scatterplot(data=df, x='HUMIDITY', y='TEMP')\n",
    "plt.title(\"Temperature vs Humidity\")\n",
    "plt.xlabel(\"Humidity\")\n",
    "plt.ylabel(\"Temperature\")\n",
    "plt.show()"
   ]
  },
  {
   "cell_type": "code",
   "execution_count": null,
   "id": "c76e694b",
   "metadata": {},
   "outputs": [],
   "source": [
    "# Group average temperature per year\n",
    "temp_df = df.groupby('YEAR')['TEMP'].mean().reset_index()\n",
    "X = temp_df[['YEAR']]\n",
    "y = temp_df['TEMP']\n",
    "X_train, X_test, y_train, y_test = train_test_split(X, y, test_size=0.2, random_state=42)\n"
   ]
  },
  {
   "cell_type": "code",
   "execution_count": null,
   "id": "d5d04b8e",
   "metadata": {},
   "outputs": [],
   "source": [
    "#Train the Model\n",
    "model = LinearRegression()\n",
    "model.fit(X_train, y_train)\n",
    "y_pred = model.predict(X_test)\n",
    "mse = mean_squared_error(y_test, y_pred)\n",
    "rmse = np.sqrt(mse)\n",
    "print(f\"Model MSE: {mse:.2f}\")\n",
    "print(f\"Model RMSE: {rmse:.2f}\")\n"
   ]
  },
  {
   "cell_type": "code",
   "execution_count": null,
   "id": "1925be05",
   "metadata": {},
   "outputs": [],
   "source": [
    "# Future years prediction\n",
    "future_years = pd.DataFrame({'YEAR': list(range(temp_df['YEAR'].min(), temp_df['YEAR'].max()+10))})\n",
    "future_preds = model.predict(future_years)\n",
    "\n",
    "plt.plot(temp_df['YEAR'], temp_df['TEMP'], label='Actual', marker='o')\n",
    "plt.plot(future_years['YEAR'], future_preds, label='Predicted', color='orange', linestyle='--')\n",
    "plt.title(\"Temperature Trend Forecast\")\n",
    "plt.xlabel(\"Year\")\n",
    "plt.ylabel(\"Temperature\")\n",
    "plt.legend()\n",
    "plt.grid(True)\n",
    "plt.show()\n"
   ]
  }
 ],
 "metadata": {
  "kernelspec": {
   "display_name": "Python 3",
   "language": "python",
   "name": "python3"
  },
  "language_info": {
   "codemirror_mode": {
    "name": "ipython",
    "version": 3
   },
   "file_extension": ".py",
   "mimetype": "text/x-python",
   "name": "python",
   "nbconvert_exporter": "python",
   "pygments_lexer": "ipython3",
   "version": "3.13.1"
  }
 },
 "nbformat": 4,
 "nbformat_minor": 5
}
